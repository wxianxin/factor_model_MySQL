{
 "cells": [
  {
   "cell_type": "code",
   "execution_count": 5,
   "metadata": {
    "collapsed": true
   },
   "outputs": [],
   "source": [
    "'''\n",
    "1. get & clean data\n",
    "    tech:\n",
    "        small: NASDAQ:NTGR, NYSE:PLT\n",
    "        medium: NYSE:SMI\n",
    "        large: NASDAQ:AAPL, NASDAQ:AMZN\n",
    "    non-tech:\n",
    "        small: NYSE:HRI, NYSE:DF\n",
    "        medium: NASDAQ:UHAL\n",
    "        larege: NYSE: BRK.A, NYSE:XOM\n",
    "2. OLS with 3 classic factor\n",
    "3. get google search trend\n",
    "4. regress on different sectors of revenue\n",
    "5. automate the process\n",
    "\n",
    "x. next task: ML training\n",
    "'''\n",
    "import numpy as np\n",
    "import pandas as pd\n",
    "import matplotlib.pyplot as plt\n",
    "from statsmodels.formula.api import ols\n",
    "# http://www.statsmodels.org/devel/generated/statsmodels.regression.linear_model.RegressionResults.html"
   ]
  },
  {
   "cell_type": "code",
   "execution_count": 12,
   "metadata": {},
   "outputs": [
    {
     "name": "stdout",
     "output_type": "stream",
     "text": [
      "       AAPL     AMZN   SMI   NTGR    PLT     BRK.A    XOM    UHAL    HRI  \\\n",
      "257  155.45  1006.73  5.16  43.35  55.33  249660.0  79.50  356.45  38.82   \n",
      "258  148.98   978.31  4.95  45.20  56.09  254965.0  82.13  358.11  38.39   \n",
      "259  142.27   987.71  5.68  43.35  53.92  256450.1  83.49  350.95  37.37   \n",
      "260  146.28  1003.74  5.37  43.95  53.05  251800.0  81.61  340.72  37.54   \n",
      "261  144.02   968.00  5.70  43.10  52.31  254700.0  80.73  366.06  39.32   \n",
      "\n",
      "        DF  \n",
      "257  18.33  \n",
      "258  17.87  \n",
      "259  18.01  \n",
      "260  17.71  \n",
      "261  17.00  \n",
      "                AAPL      AMZN        SMI      NTGR       PLT     BRK_A  \\\n",
      "date                                                                      \n",
      "2017-06-02  1.197839  1.099640  -3.189493  2.000000  4.278176  0.450632   \n",
      "2017-06-09 -4.162110 -2.823001  -4.069767  4.267589  1.373577  2.124890   \n",
      "2017-06-16 -4.503960  0.960841  14.747475 -4.092920 -3.868782  0.582472   \n",
      "2017-06-23  2.818584  1.622946  -5.457746  1.384083 -1.613501 -1.813257   \n",
      "2017-06-30 -1.544982 -3.560683   6.145251 -1.934016 -1.394910  1.151708   \n",
      "\n",
      "                 XOM      UHAL       HRI        DF  \n",
      "date                                                \n",
      "2017-06-02 -2.513795  2.342875  6.181619 -0.650407  \n",
      "2017-06-09  3.308176  0.465703 -1.107676 -2.509547  \n",
      "2017-06-16  1.655911 -1.999386 -2.656942  0.783436  \n",
      "2017-06-23 -2.251767 -2.914945  0.454910 -1.665741  \n",
      "2017-06-30 -1.078299  7.437192  4.741609 -4.009034  \n"
     ]
    }
   ],
   "source": [
    "# stock data; 20120706-20170630\n",
    "odf = pd.read_csv(r\"FACTORS - source_text.csv\")\n",
    "odf = odf[1:]\n",
    "df = odf.iloc[:,[1,3,5,7,9,11,13,15,17,19]].astype('float')\n",
    "# data preprocessing\n",
    "print(df.tail())\n",
    "df = df.pct_change()[1:]*100\n",
    "date = odf.iloc[:,0].str.split(' ').str[0]\n",
    "date = pd.to_datetime(date, format=\"%m/%d/%Y\")[1:]\n",
    "df.insert(0, \"date\", date)\n",
    "df.set_index('date', inplace=True)\n",
    "df.columns = [x.replace('.', '_') for x in df.columns]\n",
    "print(df.tail())"
   ]
  },
  {
   "cell_type": "code",
   "execution_count": 13,
   "metadata": {
    "collapsed": true
   },
   "outputs": [],
   "source": [
    "# 3 factors; 20120706-20170526\n",
    "fff = pd.read_csv(r\"fff.csv\")\n",
    "fff.rename(columns={\"Unnamed: 0\":\"date\"}, inplace=True)\n",
    "fff.date = pd.to_datetime(fff.date, format=\"%Y%m%d\")\n",
    "fff.set_index('date', inplace=True)\n",
    "fff = fff[1:]\n",
    "fff.columns = [x.replace('-','_') for x in fff.columns]\n",
    "# print(fff.tail())\n",
    "# print(fff.shape)"
   ]
  },
  {
   "cell_type": "code",
   "execution_count": 14,
   "metadata": {
    "scrolled": false
   },
   "outputs": [
    {
     "name": "stdout",
     "output_type": "stream",
     "text": [
      "AAPL PREM    1.242006e-16\n",
      "HML     2.705530e-03\n",
      "dtype: float64\n",
      "AAPL Intercept   -0.014107\n",
      "PREM         1.112746\n",
      "SMB         -0.232734\n",
      "HML         -0.569673\n",
      "dtype: float64\n",
      "AMZN PREM    2.876508e-18\n",
      "HML     3.226147e-07\n",
      "dtype: float64\n",
      "AMZN Intercept    0.342040\n",
      "PREM         1.214473\n",
      "SMB          0.083022\n",
      "HML         -1.015702\n",
      "dtype: float64\n",
      "SMI PREM    0.000491\n",
      "dtype: float64\n",
      "SMI Intercept    0.411792\n",
      "PREM         0.789238\n",
      "SMB         -0.417270\n",
      "HML          0.186649\n",
      "dtype: float64\n",
      "NTGR PREM    1.961228e-10\n",
      "SMB     8.261697e-03\n",
      "dtype: float64\n",
      "NTGR Intercept   -0.129992\n",
      "PREM         1.007599\n",
      "SMB          0.626527\n",
      "HML          0.223054\n",
      "dtype: float64\n",
      "PLT PREM    7.813322e-29\n",
      "SMB     2.053124e-07\n",
      "dtype: float64\n",
      "PLT Intercept   -0.113950\n",
      "PREM         1.327292\n",
      "SMB          0.866342\n",
      "HML          0.040227\n",
      "dtype: float64\n",
      "BRK_A PREM    1.167202e-44\n",
      "HML     2.541068e-09\n",
      "dtype: float64\n",
      "BRK_A Intercept    0.047957\n",
      "PREM         0.816798\n",
      "SMB         -0.130819\n",
      "HML          0.438546\n",
      "dtype: float64\n",
      "XOM Intercept    1.603495e-02\n",
      "PREM         2.379091e-30\n",
      "SMB          1.211244e-04\n",
      "HML          9.575387e-06\n",
      "dtype: float64\n",
      "XOM Intercept   -0.250162\n",
      "PREM         0.861138\n",
      "SMB         -0.396832\n",
      "HML          0.444938\n",
      "dtype: float64\n",
      "UHAL PREM    1.265271e-16\n",
      "HML     9.537132e-03\n",
      "dtype: float64\n",
      "UHAL Intercept    0.273948\n",
      "PREM         1.038045\n",
      "SMB          0.147970\n",
      "HML          0.458377\n",
      "dtype: float64\n",
      "HRI PREM    0.000003\n",
      "SMB     0.006786\n",
      "HML     0.012752\n",
      "dtype: float64\n",
      "HRI Intercept   -0.576176\n",
      "PREM         1.393446\n",
      "SMB          1.228897\n",
      "HML          1.094210\n",
      "dtype: float64\n",
      "DF PREM    0.000674\n",
      "dtype: float64\n",
      "DF Intercept   -0.259365\n",
      "PREM         0.814738\n",
      "SMB          0.256211\n",
      "HML          0.172165\n",
      "dtype: float64\n"
     ]
    }
   ],
   "source": [
    "ndf = df.iloc[:255]\n",
    "rdf = pd.concat([ndf,fff], axis=1)\n",
    "\n",
    "model_dict = {}\n",
    "pvalues_dict = {}\n",
    "for i in range(df.shape[1]):\n",
    "    key = rdf.columns[i]\n",
    "    model_dict[key] = ols(rdf.columns[i] + \" ~ PREM+SMB+HML\", rdf).fit()\n",
    "    print(key, model_dict[key].pvalues[model_dict[key].pvalues < 0.05])\n",
    "    print(key, model_dict[key].params)"
   ]
  },
  {
   "cell_type": "code",
   "execution_count": 15,
   "metadata": {
    "scrolled": false
   },
   "outputs": [
    {
     "name": "stdout",
     "output_type": "stream",
     "text": [
      "0.814737966222\n"
     ]
    }
   ],
   "source": [
    "print(model_dict['DF'].params.iloc[1])"
   ]
  },
  {
   "cell_type": "code",
   "execution_count": 298,
   "metadata": {},
   "outputs": [
    {
     "data": {
      "text/plain": [
       "<matplotlib.axes._subplots.AxesSubplot at 0x1d89e6be080>"
      ]
     },
     "execution_count": 298,
     "metadata": {},
     "output_type": "execute_result"
    }
   ],
   "source": [
    "fig = plt.figure(figsize=(18,16))\n",
    "df.plot.area(stacked=False)\n"
   ]
  }
 ],
 "metadata": {
  "kernelspec": {
   "display_name": "Python 3",
   "language": "python",
   "name": "python3"
  },
  "language_info": {
   "codemirror_mode": {
    "name": "ipython",
    "version": 3
   },
   "file_extension": ".py",
   "mimetype": "text/x-python",
   "name": "python",
   "nbconvert_exporter": "python",
   "pygments_lexer": "ipython3",
   "version": "3.5.2"
  }
 },
 "nbformat": 4,
 "nbformat_minor": 2
}
