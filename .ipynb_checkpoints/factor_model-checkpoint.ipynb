{
 "cells": [
  {
   "cell_type": "code",
   "execution_count": 1,
   "metadata": {},
   "outputs": [
    {
     "data": {
      "text/plain": [
       "'\\nimport sys\\nsys.path.append(\"L:\\\\D\\\\Onedrive\\\\Dropbox\\\\strategies\\\\GetGoogleData\")\\nimport GetGoogleData\\n\\nticker = \"AMD\"\\nfile_name = \"AMD_data.txt\"\\ndays = 365\\ninterval = 86400\\n# 60*60*6.5=23400\\ndf = GetGoogleData.fetch_read_google_data(file_name, ticker, days, interval)\\ndf.shape\\n'"
      ]
     },
     "execution_count": 1,
     "metadata": {},
     "output_type": "execute_result"
    }
   ],
   "source": [
    "'''\n",
    "1. get & clean data\n",
    "    tech:\n",
    "        small: NASDAQ:NTGR, NYSE:PLT\n",
    "        medium: NYSE:SMI\n",
    "        large: NASDAQ:AAPL, NASDAQ:AMZN\n",
    "    non-tech:\n",
    "        small: NYSE:HRI, NYSE:DF\n",
    "        medium: NASDAQ:UHAL\n",
    "        larege: NYSE: BRK.A, NYSE:XOM\n",
    "2. OLS with 3 classic factor\n",
    "3. get google search trend\n",
    "4. regress on different sectors of revenue\n",
    "5. automate the process\n",
    "\n",
    "x. next task: ML training\n",
    "'''\n",
    "import numpy as np\n",
    "import pandas as pd\n",
    "import matplotlib.pyplot as plt\n",
    "\n",
    "'''\n",
    "import sys\n",
    "sys.path.append(\"L:\\D\\Onedrive\\Dropbox\\strategies\\GetGoogleData\")\n",
    "import GetGoogleData\n",
    "\n",
    "ticker = \"AMD\"\n",
    "file_name = \"AMD_data.txt\"\n",
    "days = 365\n",
    "interval = 86400\n",
    "# 60*60*6.5=23400\n",
    "df = GetGoogleData.fetch_read_google_data(file_name, ticker, days, interval)\n",
    "df.shape\n",
    "'''"
   ]
  },
  {
   "cell_type": "code",
   "execution_count": null,
   "metadata": {
    "collapsed": true
   },
   "outputs": [],
   "source": []
  }
 ],
 "metadata": {
  "kernelspec": {
   "display_name": "Python 3",
   "language": "python",
   "name": "python3"
  },
  "language_info": {
   "codemirror_mode": {
    "name": "ipython",
    "version": 3
   },
   "file_extension": ".py",
   "mimetype": "text/x-python",
   "name": "python",
   "nbconvert_exporter": "python",
   "pygments_lexer": "ipython3",
   "version": "3.6.1"
  }
 },
 "nbformat": 4,
 "nbformat_minor": 2
}
