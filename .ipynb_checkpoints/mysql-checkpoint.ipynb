{
 "cells": [
  {
   "cell_type": "code",
   "execution_count": 2,
   "metadata": {
    "collapsed": true
   },
   "outputs": [],
   "source": [
    "#!/usr/bin/python3\n",
    "# change symbol varchar to char\n",
    "# change date TEXT to TIMESTAMP\n",
    "\n",
    "import MySQLdb"
   ]
  },
  {
   "cell_type": "code",
   "execution_count": 3,
   "metadata": {},
   "outputs": [],
   "source": [
    "db = MySQLdb.connect(host=\"localhost\",\n",
    "                    user=\"steve\",\n",
    "                    passwd=\"mima\",\n",
    "                    db=\"factors\")\n",
    "\n",
    "cur = db.cursor()\n",
    "\n",
    "# cur.execute(\"CREATE TABLE symbols (id INT NOT NULL AUTO_INCREMENT PRIMARY KEY, symbol VARCHAR(6) UNIQUE NOT NULL)\")\n",
    "# cur.execute(\"INSERT INTO symbols (symbol) VALUES ('aapl')\")"
   ]
  },
  {
   "cell_type": "code",
   "execution_count": 4,
   "metadata": {
    "collapsed": true
   },
   "outputs": [],
   "source": [
    "def add_stock(symbol, csv_file):\n",
    "    sql_1 = \"CREATE TABLE \" + symbol + \" (date TEXT NOT NULL, close DECIMAL(18,4) NOT NULL)\"\n",
    "    cur.execute(sql_1)\n",
    "    sql_2 = \"LOAD data local infile \" + csv_file + \" INTO TABLE \" + symbol +r\"\"\" fields terminated by ',' enclosed by '\"' lines terminated by '\\n' (date, close)\"\"\"\n",
    "    cur.execute(sql_2)\n"
   ]
  },
  {
   "cell_type": "code",
   "execution_count": 5,
   "metadata": {},
   "outputs": [
    {
     "name": "stderr",
     "output_type": "stream",
     "text": [
      "/usr/local/lib/python3.5/dist-packages/ipykernel_launcher.py:5: Warning: Incorrect decimal value: 'aapl\r",
      "' for column 'close' at row 1\n",
      "  \"\"\"\n"
     ]
    }
   ],
   "source": [
    "add_stock(\"aapl\", r\"'/home/coupe/Dropbox/Notebooks/factors/aapl.csv'\")\n"
   ]
  },
  {
   "cell_type": "code",
   "execution_count": 6,
   "metadata": {
    "collapsed": true
   },
   "outputs": [],
   "source": [
    "db.commit()\n",
    "# db.close()"
   ]
  }
 ],
 "metadata": {
  "kernelspec": {
   "display_name": "Python 3",
   "language": "python",
   "name": "python3"
  },
  "language_info": {
   "codemirror_mode": {
    "name": "ipython",
    "version": 3
   },
   "file_extension": ".py",
   "mimetype": "text/x-python",
   "name": "python",
   "nbconvert_exporter": "python",
   "pygments_lexer": "ipython3",
   "version": "3.5.2"
  }
 },
 "nbformat": 4,
 "nbformat_minor": 2
}
